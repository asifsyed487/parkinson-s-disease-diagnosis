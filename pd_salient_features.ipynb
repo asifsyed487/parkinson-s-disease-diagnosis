{
  "nbformat": 4,
  "nbformat_minor": 0,
  "metadata": {
    "colab": {
      "provenance": []
    },
    "kernelspec": {
      "name": "python3",
      "display_name": "Python 3"
    },
    "language_info": {
      "name": "python"
    }
  },
  "cells": [
    {
      "cell_type": "code",
      "execution_count": 73,
      "metadata": {
        "colab": {
          "base_uri": "https://localhost:8080/"
        },
        "id": "_nb12i1FxP9X",
        "outputId": "8e8292d6-8fb2-4441-ba6c-b1e33e95c745"
      },
      "outputs": [
        {
          "output_type": "stream",
          "name": "stdout",
          "text": [
            "Drive already mounted at /content/drive; to attempt to forcibly remount, call drive.mount(\"/content/drive\", force_remount=True).\n"
          ]
        }
      ],
      "source": [
        "from google.colab import drive\n",
        "drive.mount('/content/drive')"
      ]
    },
    {
      "cell_type": "code",
      "source": [
        "import pandas as pd\n",
        "my_cols = [\"study_subject\", \"jitter_in_%\", \"absolute_jitter_in_microseconds\", \"rap\", \"ppq5\", \"ddp\", \"shimmer_in_%\", \"absolute_shimmer_in_db\", \"apq3\", \"apq5\", \"apq11\", \"dda\", \"Autocorrelation_between_NHR_and_HNR\", \"NHR\", \"HNR\", \"Median_pitch\", \"Mean_pitch\", \"Standard_Deviation_of_pitch\", \"Minimum_pitch\", \"Maximum_pitch\", \"Number_of_pulses\", \"Number_of_periods\", \"Mean_period\", \"Standard_deviation_of_period\", \"Fraction_of_unvoiced_frames\", \"Number_of_voice_breaks\", \"Degree_of_voice_breaks\", \"UPDRS\", \"PD\"]\n",
        "data = pd.read_csv(\"/content/drive/My Drive/datascience/po1_data.txt\", names=my_cols, engine='python')"
      ],
      "metadata": {
        "id": "zpOhhhGLxfuD"
      },
      "execution_count": 74,
      "outputs": []
    },
    {
      "cell_type": "code",
      "source": [
        "print(data.head())"
      ],
      "metadata": {
        "colab": {
          "base_uri": "https://localhost:8080/"
        },
        "id": "PS0gXNw2xkNf",
        "outputId": "c5f40362-256c-4dbc-b222-a3aebb00d462"
      },
      "execution_count": 75,
      "outputs": [
        {
          "output_type": "stream",
          "name": "stdout",
          "text": [
            "   study_subject  jitter_in_%  absolute_jitter_in_microseconds    rap   ppq5  \\\n",
            "0              1        1.488                         0.000090  0.900  0.794   \n",
            "1              1        0.728                         0.000038  0.353  0.376   \n",
            "2              1        1.220                         0.000074  0.732  0.670   \n",
            "3              1        2.502                         0.000123  1.156  1.634   \n",
            "4              1        3.509                         0.000167  1.715  1.539   \n",
            "\n",
            "     ddp  shimmer_in_%  absolute_shimmer_in_db   apq3   apq5  ...  \\\n",
            "0  2.699         8.334                   0.779  4.517  4.609  ...   \n",
            "1  1.059         5.864                   0.642  2.058  3.180  ...   \n",
            "2  2.196         8.719                   0.875  4.347  5.166  ...   \n",
            "3  3.469        13.513                   1.273  5.263  8.771  ...   \n",
            "4  5.145         9.112                   1.040  3.102  4.927  ...   \n",
            "\n",
            "   Maximum_pitch  Number_of_pulses  Number_of_periods  Mean_period  \\\n",
            "0        187.576               160                159     0.006065   \n",
            "1        234.505               170                169     0.005181   \n",
            "2        211.442              1431               1427     0.006071   \n",
            "3        220.230                94                 92     0.004910   \n",
            "4        225.162               117                114     0.004757   \n",
            "\n",
            "   Standard_deviation_of_period  Fraction_of_unvoiced_frames  \\\n",
            "0                      0.000416                        0.000   \n",
            "1                      0.000403                        2.247   \n",
            "2                      0.000474                       10.656   \n",
            "3                      0.000320                        0.000   \n",
            "4                      0.000380                       18.182   \n",
            "\n",
            "   Number_of_voice_breaks  Degree_of_voice_breaks  UPDRS  PD  \n",
            "0                       0                   0.000     23   1  \n",
            "1                       0                   0.000     23   1  \n",
            "2                       1                   0.178     23   1  \n",
            "3                       0                   0.000     23   1  \n",
            "4                       1                  13.318     23   1  \n",
            "\n",
            "[5 rows x 29 columns]\n"
          ]
        }
      ]
    },
    {
      "cell_type": "code",
      "source": [
        "print(data.isnull().sum())"
      ],
      "metadata": {
        "colab": {
          "base_uri": "https://localhost:8080/"
        },
        "id": "7cD27ROhx1J8",
        "outputId": "2da1695e-7221-4f61-8a5f-74a076aef07e"
      },
      "execution_count": 76,
      "outputs": [
        {
          "output_type": "stream",
          "name": "stdout",
          "text": [
            "study_subject                          0\n",
            "jitter_in_%                            0\n",
            "absolute_jitter_in_microseconds        0\n",
            "rap                                    0\n",
            "ppq5                                   0\n",
            "ddp                                    0\n",
            "shimmer_in_%                           0\n",
            "absolute_shimmer_in_db                 0\n",
            "apq3                                   0\n",
            "apq5                                   0\n",
            "apq11                                  0\n",
            "dda                                    0\n",
            "Autocorrelation_between_NHR_and_HNR    0\n",
            "NHR                                    0\n",
            "HNR                                    0\n",
            "Median_pitch                           0\n",
            "Mean_pitch                             0\n",
            "Standard_Deviation_of_pitch            0\n",
            "Minimum_pitch                          0\n",
            "Maximum_pitch                          0\n",
            "Number_of_pulses                       0\n",
            "Number_of_periods                      0\n",
            "Mean_period                            0\n",
            "Standard_deviation_of_period           0\n",
            "Fraction_of_unvoiced_frames            0\n",
            "Number_of_voice_breaks                 0\n",
            "Degree_of_voice_breaks                 0\n",
            "UPDRS                                  0\n",
            "PD                                     0\n",
            "dtype: int64\n"
          ]
        }
      ]
    },
    {
      "cell_type": "code",
      "source": [
        "data = data.drop_duplicates()"
      ],
      "metadata": {
        "id": "8kxODxATx4dU"
      },
      "execution_count": 77,
      "outputs": []
    },
    {
      "cell_type": "code",
      "source": [
        "healthy_data = data[data['PD'] == 0]\n",
        "pd_data = data[data['PD'] == 1]"
      ],
      "metadata": {
        "id": "il4YwJqbFgN1"
      },
      "execution_count": 78,
      "outputs": []
    },
    {
      "cell_type": "code",
      "source": [
        "import pandas as pd\n",
        "from scipy.stats import ttest_ind\n",
        "p_values = []\n",
        "for column in data.columns[1:]:\n",
        "    healthy_values = healthy_data[column]\n",
        "    pd_values = pd_data[column]\n",
        "    t_statistic, p_value = ttest_ind(healthy_values, pd_values)\n",
        "    p_values.append(p_value)\n",
        "\n",
        "median_p_value = pd.Series(p_values).median()\n",
        "iqr_p_value = pd.Series(p_values).quantile(0.75) - pd.Series(p_values).quantile(0.25)\n",
        "\n",
        "\n",
        "threshold = median_p_value + 1.5 * iqr_p_value\n",
        "\n",
        "print(\"Median p-value:\", median_p_value)\n",
        "print(\"IQR of p-values:\", iqr_p_value)\n",
        "print(\"Threshold value:\", threshold)"
      ],
      "metadata": {
        "id": "jAtaRluJEf1u",
        "colab": {
          "base_uri": "https://localhost:8080/"
        },
        "outputId": "3f6e2b59-d0fa-46f1-d104-a14b9e8a5992"
      },
      "execution_count": 79,
      "outputs": [
        {
          "output_type": "stream",
          "name": "stdout",
          "text": [
            "Median p-value: 0.007457120081460562\n",
            "IQR of p-values: 0.1431738393235625\n",
            "Threshold value: 0.22221787906680432\n"
          ]
        },
        {
          "output_type": "stream",
          "name": "stderr",
          "text": [
            "<ipython-input-79-fca06e76bd7d>:7: RuntimeWarning: Precision loss occurred in moment calculation due to catastrophic cancellation. This occurs when the data are nearly identical. Results may be unreliable.\n",
            "  t_statistic, p_value = ttest_ind(healthy_values, pd_values)\n"
          ]
        }
      ]
    },
    {
      "cell_type": "code",
      "source": [
        "\n",
        "significant_features = []\n",
        "significant_features_p_value = []\n",
        "\n",
        "for column in data.columns[1:]:\n",
        "    healthy_values = healthy_data[column]\n",
        "    pd_values = pd_data[column]\n",
        "\n",
        "\n",
        "    t_statistic, p_value = ttest_ind(healthy_values, pd_values)\n",
        "\n",
        "\n",
        "    if p_value < threshold:\n",
        "        significant_features.append(column)\n",
        "        significant_features_p_value.append(p_value)\n",
        "\n",
        "\n",
        "print(\"Statistically significant features:\", significant_features)\n",
        "len(significant_features)\n",
        "print(\"Statistically significant features:\", significant_features_p_value)\n"
      ],
      "metadata": {
        "id": "XPSKN-fuEh6G",
        "colab": {
          "base_uri": "https://localhost:8080/"
        },
        "outputId": "746b2596-f7e8-442c-c5dd-44808693f41f"
      },
      "execution_count": 82,
      "outputs": [
        {
          "output_type": "stream",
          "name": "stdout",
          "text": [
            "Statistically significant features: ['jitter_in_%', 'absolute_jitter_in_microseconds', 'rap', 'ppq5', 'ddp', 'apq11', 'Autocorrelation_between_NHR_and_HNR', 'NHR', 'HNR', 'Median_pitch', 'Mean_pitch', 'Standard_Deviation_of_pitch', 'Minimum_pitch', 'Maximum_pitch', 'Number_of_pulses', 'Number_of_periods', 'Mean_period', 'Standard_deviation_of_period', 'Fraction_of_unvoiced_frames', 'Number_of_voice_breaks', 'Degree_of_voice_breaks', 'UPDRS', 'PD']\n",
            "Statistically significant features: [0.0016344496445435067, 6.055252751057853e-08, 0.0003292913407710949, 0.0003379936090640013, 0.00032952816569233555, 2.1507317386375703e-06, 0.008886608396824192, 0.014127255939245669, 0.191800442148244, 0.006574901469342033, 0.000852121912640331, 9.068988191270615e-05, 0.0567266528876866, 6.418899305637324e-06, 0.1860367130799258, 0.12900341386495734, 0.00833933869357909, 0.0580649704408664, 7.95277348097335e-05, 0.010009929669102151, 4.510173397436688e-05, 1.0259139698689208e-192, 0.0]\n"
          ]
        },
        {
          "output_type": "stream",
          "name": "stderr",
          "text": [
            "<ipython-input-82-35a080ae6c60>:9: RuntimeWarning: Precision loss occurred in moment calculation due to catastrophic cancellation. This occurs when the data are nearly identical. Results may be unreliable.\n",
            "  t_statistic, p_value = ttest_ind(healthy_values, pd_values)\n"
          ]
        }
      ]
    },
    {
      "cell_type": "code",
      "source": [
        "import matplotlib.pyplot as plt\n",
        "# Plotting\n",
        "plt.figure(figsize=(10, 6))\n",
        "p_values_series_sorted.plot(kind='bar')\n",
        "plt.axhline(y=threshold, color='r', linestyle='dashed', label='Threshold')\n",
        "plt.xlabel('Features')\n",
        "plt.ylabel('p-value')\n",
        "plt.title('p-values of Features')\n",
        "plt.legend()\n",
        "plt.xticks(rotation=90)\n",
        "plt.tight_layout()\n",
        "plt.show()"
      ],
      "metadata": {
        "colab": {
          "base_uri": "https://localhost:8080/",
          "height": 607
        },
        "id": "0rr9aAWNPXCR",
        "outputId": "9c08d78a-6c2b-4d68-a22d-56586e48078c"
      },
      "execution_count": 81,
      "outputs": [
        {
          "output_type": "display_data",
          "data": {
            "text/plain": [
              "<Figure size 1000x600 with 1 Axes>"
            ],
            "image/png": "[encoded data removed]"
          },
          "metadata": {}
        }
      ]
    },
    {
      "cell_type": "code",
      "source": [],
      "metadata": {
        "id": "h4trD1zVPXFW"
      },
      "execution_count": 81,
      "outputs": []
    },
    {
      "cell_type": "code",
      "source": [],
      "metadata": {
        "id": "egKie-t-PXIa"
      },
      "execution_count": 81,
      "outputs": []
    },
    {
      "cell_type": "code",
      "source": [],
      "metadata": {
        "id": "_sPlvZT3PXLU"
      },
      "execution_count": 81,
      "outputs": []
    },
    {
      "cell_type": "code",
      "source": [],
      "metadata": {
        "id": "vrM8oq6bPXO2"
      },
      "execution_count": 81,
      "outputs": []
    },
    {
      "cell_type": "code",
      "source": [],
      "metadata": {
        "id": "anGXEKnFKtx2"
      },
      "execution_count": 81,
      "outputs": []
    }
  ]
}